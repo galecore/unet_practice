{
 "cells": [
  {
   "cell_type": "code",
   "execution_count": 14,
   "metadata": {},
   "outputs": [
    {
     "name": "stdout",
     "output_type": "stream",
     "text": [
      "Populating the interactive namespace from numpy and matplotlib\n"
     ]
    }
   ],
   "source": [
    "%pylab inline\n",
    "import torch\n",
    "import numpy\n",
    "import sklearn.datasets\n",
    "import torchvision.datasets"
   ]
  },
  {
   "cell_type": "code",
   "execution_count": null,
   "metadata": {},
   "outputs": [],
   "source": []
  },
  {
   "cell_type": "code",
   "execution_count": 23,
   "metadata": {},
   "outputs": [],
   "source": [
    "# Fetching dataset\n",
    "MNIST_train = torchvision.datasets.MNIST('./', download=True, train=True)\n",
    "MNIST_test = torchvision.datasets.MNIST('./', download=True, train=False)\n",
    "# mnist = sklearn.datasets.fetch_mldata('MNIST original')"
   ]
  },
  {
   "cell_type": "code",
   "execution_count": 24,
   "metadata": {},
   "outputs": [],
   "source": [
    "train_features = MNIST_train.train_data\n",
    "train_labels = MNIST_train.train_labels\n",
    "test_features = MNIST_test.test_data\n",
    "test_labels = MNIST_test.test_labels"
   ]
  },
  {
   "cell_type": "code",
   "execution_count": 25,
   "metadata": {},
   "outputs": [
    {
     "name": "stdout",
     "output_type": "stream",
     "text": [
      "tensor(5)\n"
     ]
    },
    {
     "data": {
      "image/png": "[encoded data removed]",
      "text/plain": [
       "<Figure size 432x288 with 1 Axes>"
      ]
     },
     "metadata": {},
     "output_type": "display_data"
    }
   ],
   "source": [
    "imshow(train_features[0, :, :].numpy())\n",
    "print(train_labels[0])"
   ]
  },
  {
   "cell_type": "code",
   "execution_count": 26,
   "metadata": {},
   "outputs": [
    {
     "name": "stdout",
     "output_type": "stream",
     "text": [
      "tensor(0)\n"
     ]
    },
    {
     "data": {
      "image/png": "[encoded data removed]",
      "text/plain": [
       "<Figure size 432x288 with 1 Axes>"
      ]
     },
     "metadata": {},
     "output_type": "display_data"
    }
   ],
   "source": [
    "imshow(train_features[1, :, :].numpy())\n",
    "print(train_labels[1])"
   ]
  },
  {
   "cell_type": "code",
   "execution_count": 27,
   "metadata": {},
   "outputs": [
    {
     "name": "stdout",
     "output_type": "stream",
     "text": [
      "(60000, 28, 28)\n"
     ]
    }
   ],
   "source": [
    "train_features = train_features.numpy()\n",
    "test_features = test_features.numpy()\n",
    "train_labels = train_labels.numpy()\n",
    "test_labels = test_labels.numpy()\n",
    "print(train_features.shape)\n",
    "train_features = train_features.reshape([-1, 1, 28, 28]).astype(float)\n",
    "test_features = test_features.reshape([-1, 1, 28, 28]).astype(float)"
   ]
  },
  {
   "cell_type": "code",
   "execution_count": 21,
   "metadata": {},
   "outputs": [
    {
     "data": {
      "text/plain": [
       "(60000, 1, 28, 28)"
      ]
     },
     "execution_count": 21,
     "metadata": {},
     "output_type": "execute_result"
    }
   ],
   "source": []
  },
  {
   "cell_type": "code",
   "execution_count": 20,
   "metadata": {},
   "outputs": [
    {
     "name": "stdout",
     "output_type": "stream",
     "text": [
      "5\n"
     ]
    },
    {
     "data": {
      "image/png": "[encoded data removed]",
      "text/plain": [
       "<Figure size 432x288 with 1 Axes>"
      ]
     },
     "metadata": {},
     "output_type": "display_data"
    }
   ],
   "source": [
    "imshow(train_features[0,0, :, :])\n",
    "print(train_labels[0])"
   ]
  },
  {
   "cell_type": "code",
   "execution_count": 9,
   "metadata": {},
   "outputs": [],
   "source": [
    "# train_features = torch.FloatTensor(train_features)\n",
    "# test_features = torch.FloatTensor(test_features)"
   ]
  },
  {
   "cell_type": "code",
   "execution_count": 29,
   "metadata": {},
   "outputs": [],
   "source": [
    "# Всего 10 классов\n",
    "class MnistConvNet(torch.nn.Module):\n",
    "    def __init__(self):\n",
    "        super(MnistConvNet, self).__init__()\n",
    "#         self.batch_norm1 = torch.nn.BatchNorm2d(1)\n",
    "        self.conv1 = torch.nn.Conv2d(1, 16, 3, padding=1)\n",
    "        self.act1  = torch.nn.ReLU()\n",
    "        self.pool1 = torch.nn.MaxPool2d(2, 2)\n",
    "#         self.batch_norm2 = torch.nn.BatchNorm2d(16)\n",
    "        self.conv2 = torch.nn.Conv2d(16, 32, 3, padding=1)\n",
    "        self.act2  = torch.nn.ReLU()\n",
    "        self.pool2 = torch.nn.MaxPool2d(2, 2)\n",
    "#         self.batch_norm3 = torch.nn.BatchNorm2d(32)\n",
    "        self.conv3 = torch.nn.Conv2d(32, 64, 3, padding=1)\n",
    "        self.act3  = torch.nn.ReLU()\n",
    "        \n",
    "#         self.batch_norm4 = torch.nn.BatchNorm1d(49*64)\n",
    "        self.fc1   = torch.nn.Linear(49 * 64, 256)\n",
    "        self.act4  = torch.nn.Tanh()\n",
    "#         self.batch_norm5 = torch.nn.BatchNorm1d(256)\n",
    "        self.fc2   = torch.nn.Linear(256, 64)\n",
    "        self.act5  = torch.nn.Tanh()\n",
    "#         self.batch_norm6 = torch.nn.BatchNorm1d(64)\n",
    "        self.fc3   = torch.nn.Linear(64, 10)\n",
    "    \n",
    "    def forward(self, x):\n",
    "#         x = self.batch_norm1(x)\n",
    "        x = self.conv1(x)\n",
    "        x = self.act1(x)\n",
    "        x = self.pool1(x)\n",
    "#         x = self.batch_norm2(x)\n",
    "        x = self.conv2(x)\n",
    "        x = self.act2(x)\n",
    "        x = self.pool2(x)\n",
    "#         x = self.batch_norm3(x)\n",
    "        x = self.conv3(x)\n",
    "        x = self.act3(x)\n",
    "        \n",
    "        x = x.view(x.size(0), x.size(1) * x.size(2) * x.size(3))\n",
    "#         x = self.batch_norm4(x)\n",
    "        x = self.fc1(x)\n",
    "        x = self.act4(x)\n",
    "#         x = self.batch_norm5(x)\n",
    "        x = self.fc2(x)\n",
    "        x = self.act5(x)\n",
    "#         x = self.batch_norm6(x)\n",
    "        x = self.fc3(x)\n",
    "        \n",
    "        return x"
   ]
  },
  {
   "cell_type": "code",
   "execution_count": 30,
   "metadata": {},
   "outputs": [],
   "source": [
    "mnist_net = MnistConvNet().cuda()\n",
    "\n",
    "criterion = torch.nn.CrossEntropyLoss()\n",
    "optimizer = torch.optim.Adam(mnist_net.parameters(), lr=1.0e-3)\n"
   ]
  },
  {
   "cell_type": "code",
   "execution_count": 21,
   "metadata": {},
   "outputs": [
    {
     "name": "stdout",
     "output_type": "stream",
     "text": [
      "0.981\n",
      "0.987\n",
      "0.9859\n",
      "0.9805\n",
      "0.9845\n",
      "0.9795\n",
      "0.9778\n",
      "0.9825\n",
      "0.9862\n",
      "0.9822\n",
      "0.9798\n",
      "0.9858\n",
      "0.9794\n",
      "0.9766\n",
      "0.9299\n",
      "0.9593\n",
      "0.9743\n",
      "0.9785\n",
      "0.9815\n",
      "0.9758\n",
      "0.9705\n",
      "0.9754\n",
      "0.9716\n",
      "0.9648\n",
      "0.9759\n",
      "0.9664\n",
      "0.9762\n",
      "0.9745\n",
      "0.9313\n",
      "0.9664\n",
      "0.9628\n",
      "0.9668\n",
      "0.9657\n",
      "0.9648\n",
      "0.9557\n",
      "0.9635\n",
      "0.9587\n",
      "0.9709\n",
      "0.9735\n",
      "0.9722\n",
      "0.9664\n",
      "0.9728\n",
      "0.9542\n",
      "0.9663\n",
      "0.9451\n",
      "0.9384\n",
      "0.9655\n",
      "0.9697\n",
      "0.9631\n",
      "0.9632\n",
      "0.9572\n",
      "0.9569\n",
      "0.9309\n",
      "0.9293\n",
      "0.9566\n",
      "0.9648\n",
      "0.9677\n",
      "0.9026\n",
      "0.96\n",
      "0.9697\n",
      "0.9062\n",
      "0.9633\n",
      "0.9625\n",
      "0.9593\n",
      "0.9589\n",
      "0.9513\n",
      "0.9271\n",
      "0.9339\n",
      "0.9462\n",
      "0.956\n",
      "0.9484\n",
      "0.951\n",
      "0.9555\n",
      "0.9408\n",
      "0.9391\n",
      "0.9139\n",
      "0.9037\n",
      "0.9513\n",
      "0.9548\n",
      "0.9562\n",
      "0.9476\n",
      "0.9578\n",
      "0.9246\n",
      "0.9481\n",
      "0.9537\n",
      "0.9439\n",
      "0.9401\n",
      "0.9483\n",
      "0.7761\n",
      "0.8641\n",
      "0.9392\n",
      "0.9542\n",
      "0.9543\n",
      "0.9629\n",
      "0.9436\n",
      "0.946\n",
      "0.8888\n",
      "0.9183\n",
      "0.9397\n",
      "0.9483\n"
     ]
    }
   ],
   "source": [
    "batch_size = 100\n",
    "for epoch in range(100):\n",
    "    order = random.permutation(train_features.shape[0])\n",
    "    mnist_net.train()\n",
    "    for start_index in range(0, train_features.shape[0], batch_size):\n",
    "        optimizer.zero_grad()\n",
    "        \n",
    "        batch_indice = order[start_index:start_index+batch_size]\n",
    "        batch_features = torch.FloatTensor(train_features[batch_indice, :])\n",
    "        batch_labels = torch.LongTensor(train_labels[batch_indice])\n",
    "        \n",
    "        features_var = torch.autograd.Variable(batch_features).cuda()\n",
    "        labels_var = torch.autograd.Variable(batch_labels).cuda()\n",
    "        \n",
    "        preds_var = mnist_net.forward(features_var)\n",
    "        loss = criterion(preds_var, labels_var)\n",
    "        \n",
    "        loss.backward()\n",
    "        \n",
    "        optimizer.step()\n",
    "        \n",
    "    order = random.permutation(test_features.shape[0])\n",
    "    \n",
    "    all_preds = []\n",
    "    all_trues = []\n",
    "    \n",
    "    mnist_net.eval()\n",
    "    for start_index in range(0, test_features.shape[0], batch_size):\n",
    "        batch_indice = order[start_index:start_index+batch_size]\n",
    "        batch_features = torch.FloatTensor(test_features[batch_indice, :])\n",
    "        trues = test_labels[batch_indice]\n",
    "        \n",
    "        features_var = torch.autograd.Variable(batch_features).cuda()\n",
    "        \n",
    "        preds = mnist_net.forward(features_var).cpu().data.numpy().argmax(axis=1)\n",
    "        \n",
    "#         print preds.shape\n",
    "#         print trues.shape\n",
    "        \n",
    "        all_preds.append(preds)\n",
    "        all_trues.append(trues)\n",
    "        \n",
    "    all_preds = numpy.concatenate(all_preds)\n",
    "    all_trues = numpy.concatenate(all_trues)\n",
    "    \n",
    "    print((all_preds == all_trues).astype(int).sum() / float(all_trues.size))"
   ]
  },
  {
   "cell_type": "markdown",
   "metadata": {},
   "source": [
    "# Задание 1\n",
    "Добавить (раскомментировать) строки кода, добавляющие BatchNorm в модель. Улучшается ли при этом результат? Почему?"
   ]
  },
  {
   "cell_type": "markdown",
   "metadata": {},
   "source": [
    "# Задание 2\n",
    "Увеличить размер пятна (perception area) каждой свертки. Улучшится ли качество?"
   ]
  },
  {
   "cell_type": "markdown",
   "metadata": {},
   "source": [
    "# Задание 3 \n",
    "Можно ли увеличить размер пятна каким-либо другим способом (помимо увеличения размера свертки) в промежутках между MaxPooling?"
   ]
  }
 ],
 "metadata": {
  "anaconda-cloud": {},
  "kernelspec": {
   "display_name": "Python 3",
   "language": "python",
   "name": "python3"
  },
  "language_info": {
   "codemirror_mode": {
    "name": "ipython",
    "version": 3
   },
   "file_extension": ".py",
   "mimetype": "text/x-python",
   "name": "python",
   "nbconvert_exporter": "python",
   "pygments_lexer": "ipython3",
   "version": "3.5.2"
  }
 },
 "nbformat": 4,
 "nbformat_minor": 2
}
