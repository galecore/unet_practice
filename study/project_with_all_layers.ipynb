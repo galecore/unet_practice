{
 "cells": [
  {
   "cell_type": "code",
   "execution_count": 13,
   "metadata": {},
   "outputs": [
    {
     "name": "stdout",
     "output_type": "stream",
     "text": [
      "Populating the interactive namespace from numpy and matplotlib\n"
     ]
    },
    {
     "name": "stderr",
     "output_type": "stream",
     "text": [
      "/home/teacher/.local/lib/python3.5/site-packages/IPython/core/magics/pylab.py:160: UserWarning: pylab import has clobbered these variables: ['stack']\n",
      "`%matplotlib` prevents importing * from pylab and numpy\n",
      "  \"\\n`%matplotlib` prevents importing * from pylab and numpy\"\n"
     ]
    }
   ],
   "source": [
    "%pylab inline\n",
    "import torch\n",
    "import numpy\n",
    "import sklearn.datasets\n",
    "import torchvision.datasets\n",
    "import os\n",
    "from scipy.misc import imresize as imgresize\n",
    "from pycocotools import coco\n",
    "\n",
    "torch.manual_seed(0)\n",
    "\n",
    "import warnings\n",
    "warnings.filterwarnings(\"ignore\", category=DeprecationWarning) "
   ]
  },
  {
   "cell_type": "code",
   "execution_count": 14,
   "metadata": {},
   "outputs": [],
   "source": [
    "train_dest = \"../../val2017\"\n",
    "target_dest = \"../../annotations/instances_val2017_categories.json\""
   ]
  },
  {
   "cell_type": "code",
   "execution_count": 15,
   "metadata": {},
   "outputs": [],
   "source": [
    "# import json \n",
    "\n",
    "# with open(\"../../annotations/instances_val2017.json\") as rfile, open(\"../../annotations/instances_val2017_categories.json\", 'w') as wfile:\n",
    "#     data = json.load(rfile)\n",
    "    \n",
    "#     new_categories = list(set(list(x[\"category_id\"] for x in data[\"annotations\"])))\n",
    "#     def change_category(ann):\n",
    "#         ann[\"category_id\"] = new_categories.index(ann[\"category_id\"])\n",
    "#         return ann\n",
    "    \n",
    "#     data[\"annotations\"] = list(map(change_category, data[\"annotations\"]))\n",
    "#     json.dump(data, wfile)\n",
    "   \n",
    "# with open(\"../../annotations/instances_train2017.json\") as rfile, open(\"../../annotations/instances_train2017_categories.json\", 'w') as wfile:\n",
    "#     data = json.load(rfile)\n",
    "    \n",
    "#     new_categories = list(set(list(x[\"category_id\"] for x in data[\"annotations\"])))\n",
    "#     def change_category(ann):\n",
    "#         ann[\"category_id\"] = new_categories.index(ann[\"category_id\"])\n",
    "#         return ann\n",
    "    \n",
    "#     data[\"annotations\"] = list(map(change_category, data[\"annotations\"]))\n",
    "#     json.dump(data, wfile)"
   ]
  },
  {
   "cell_type": "code",
   "execution_count": 26,
   "metadata": {},
   "outputs": [
    {
     "name": "stdout",
     "output_type": "stream",
     "text": [
      "loading annotations into memory...\n",
      "Done (t=0.87s)\n",
      "creating index...\n",
      "index created!\n"
     ]
    }
   ],
   "source": [
    "COCO = coco.COCO(target_dest)\n",
    "category_ids = 80\n",
    "people_category = 0\n",
    "size = (32, 32)\n",
    "def toResizedTensor(np_image):\n",
    "    np_image = (imgresize(np_image, size, 'bilinear') > 0).astype(int)\n",
    "    return torch.from_numpy(np_image).float().unsqueeze(0)\n",
    "\n",
    "def toMask(x):\n",
    "    masks = torch.zeros(80, 1, *size)\n",
    "    for ann in x:\n",
    "        category = ann[\"category_id\"]\n",
    "        mask = COCO.annToMask(ann)\n",
    "        mask = toResizedTensor(mask)\n",
    "        masks[category] += mask\n",
    "    return masks"
   ]
  },
  {
   "cell_type": "code",
   "execution_count": 27,
   "metadata": {},
   "outputs": [],
   "source": [
    "transforms = torchvision.transforms.Compose(\n",
    "    [\n",
    "        torchvision.transforms.Resize(size), #реобразует картинку к указанному размеру\n",
    "         torchvision.transforms.ToTensor()                   # Переводит объект \"картинка\" к torch.Tensor\n",
    "    ])\n",
    "\n",
    "train_transforms = torchvision.transforms.Compose(\n",
    "    [\n",
    "        torchvision.transforms.Lambda(toMask),      \n",
    "    ])"
   ]
  },
  {
   "cell_type": "code",
   "execution_count": 28,
   "metadata": {},
   "outputs": [
    {
     "name": "stdout",
     "output_type": "stream",
     "text": [
      "loading annotations into memory...\n",
      "Done (t=0.67s)\n",
      "creating index...\n",
      "index created!\n"
     ]
    }
   ],
   "source": [
    "dataset = torchvision.datasets.CocoDetection(train_dest, target_dest, \n",
    "                                             transform=transforms, target_transform=train_transforms)\n",
    "\n",
    "data_loader = torch.utils.data.DataLoader(\n",
    "    dataset,\n",
    "    shuffle=True,\n",
    "    pin_memory=True,\n",
    "    batch_size=1,\n",
    "    num_workers=4)"
   ]
  },
  {
   "cell_type": "code",
   "execution_count": 29,
   "metadata": {},
   "outputs": [
    {
     "data": {
      "image/png": "[encoded data removed]",
      "text/plain": [
       "<Figure size 432x288 with 1 Axes>"
      ]
     },
     "metadata": {},
     "output_type": "display_data"
    }
   ],
   "source": [
    "plt.imshow(dataset[3][0].numpy().swapaxes(0,1).swapaxes(1,2))\n",
    "plt.show()"
   ]
  },
  {
   "cell_type": "code",
   "execution_count": 30,
   "metadata": {},
   "outputs": [],
   "source": [
    "device = \"cuda:0\" if torch.cuda.is_available() else \"cpu\""
   ]
  },
  {
   "cell_type": "code",
   "execution_count": 31,
   "metadata": {},
   "outputs": [],
   "source": [
    "class UNetConvBlock(torch.nn.Module):\n",
    "    def __init__(self, in_layers, out_layers, kernel_size=3, padding=1, activation=torch.nn.ReLU, pooling=True):\n",
    "        super(UNetConvBlock, self).__init__()\n",
    "        self.conv = torch.nn.Conv2d(in_layers, out_layers, kernel_size, padding=padding)\n",
    "        self.conv2 = torch.nn.Conv2d(out_layers, out_layers, kernel_size, padding=padding)\n",
    "        self.pooling = pooling\n",
    "        self.pool = torch.nn.MaxPool2d(2)\n",
    "        self.activation = activation()\n",
    "        \n",
    "    def forward(self, x):\n",
    "        out = self.activation(self.conv(x))\n",
    "        out = self.activation(self.conv2(out))\n",
    "        if (self.pooling):\n",
    "            out = self.pool(out)\n",
    "        return out     \n",
    "    \n",
    "class UNetUpConvBlock(torch.nn.Module):\n",
    "    def __init__(self, in_layers, kernel_size=3, padding=1, activation=torch.nn.ReLU):\n",
    "        super(UNetUpConvBlock, self).__init__()\n",
    "        self.upconv = torch.nn.Conv2d(in_layers, 4*in_layers, 1)\n",
    "        self.transpose = torch.nn.ConvTranspose2d(4*in_layers, in_layers, 2, stride=2)\n",
    "        self.conv = UNetConvBlock(in_layers, in_layers, pooling=False)  \n",
    "        \n",
    "    def forward(self, x):\n",
    "        out = self.upconv(x)\n",
    "        out = self.transpose(out)\n",
    "        out = self.conv(out)\n",
    "        return out    \n",
    "\n",
    "def stack(old, new):\n",
    "    return torch.cat([old, new], dim=1)"
   ]
  },
  {
   "cell_type": "code",
   "execution_count": 32,
   "metadata": {},
   "outputs": [],
   "source": [
    "class UNet(torch.nn.Module):\n",
    "    def __init__(self):\n",
    "        super(UNet, self).__init__()\n",
    "        \n",
    "        self.conv1 = UNetConvBlock(3, 16)\n",
    "        self.conv2 = UNetConvBlock(16, 32)\n",
    "        self.conv3 = UNetConvBlock(32, 64)\n",
    "\n",
    "        self.upconv3 = UNetUpConvBlock(64) \n",
    "        self.upconv2 = UNetUpConvBlock(96)  # stack with conv2 64 + 32\n",
    "        self.upconv1 = UNetUpConvBlock(112) # stack with conv1 96 + 16\n",
    "        \n",
    "        self.fullconv = torch.nn.Conv2d(115, 80, 1) # with initial 112 + 3\n",
    "        self.pred = torch.nn.Sigmoid()\n",
    "        \n",
    "    def forward(self, x):\n",
    "        initial = x.clone()\n",
    "        \n",
    "        c1 = self.conv1(x)\n",
    "        c2 = self.conv2(c1)          \n",
    "        x = self.conv3(c2)\n",
    "        \n",
    "        x = self.upconv3(x)\n",
    "        \n",
    "        x = stack(c2, x)\n",
    "        x = self.upconv2(x)\n",
    "        \n",
    "        x = stack(c1, x)\n",
    "        x = self.upconv1(x)\n",
    "        \n",
    "        x = stack(initial, x)\n",
    "        x = self.fullconv(x)  \n",
    "        x = self.pred(x)\n",
    "        return x"
   ]
  },
  {
   "cell_type": "code",
   "execution_count": 33,
   "metadata": {},
   "outputs": [],
   "source": [
    "net = UNet().to(device)\n",
    "\n",
    "criterion = torch.nn.BCELoss()\n",
    "optimizer = torch.optim.Adam(net.parameters())\n",
    "\n",
    "# if os.path.exists(\"state_dict.wght\"):\n",
    "#     net.load_state_dict(torch.load(\"state_dict.wght\"))\n",
    "\n",
    "def intersection_over_union(pred, target):\n",
    "    i, u = 0, 0\n",
    "    for pred_l, target_l in zip(pred, target):\n",
    "        i += (pred_l * target_l > 0).sum().item()\n",
    "        u += (pred_l + target_l > 0).sum().item()\n",
    "    return i / u\n",
    "\n",
    "metric = intersection_over_union"
   ]
  },
  {
   "cell_type": "code",
   "execution_count": 34,
   "metadata": {
    "scrolled": true
   },
   "outputs": [
    {
     "name": "stdout",
     "output_type": "stream",
     "text": [
      "Epoch 0 started\n"
     ]
    },
    {
     "ename": "RuntimeError",
     "evalue": "cuda runtime error (2) : out of memory at /pytorch/aten/src/THC/THCTensorCopy.cu:204",
     "output_type": "error",
     "traceback": [
      "\u001b[0;31m---------------------------------------------------------------------------\u001b[0m",
      "\u001b[0;31mRuntimeError\u001b[0m                              Traceback (most recent call last)",
      "\u001b[0;32m<ipython-input-34-0f892d216727>\u001b[0m in \u001b[0;36m<module>\u001b[0;34m()\u001b[0m\n\u001b[1;32m      9\u001b[0m         \u001b[0mbatch_labels\u001b[0m \u001b[0;34m=\u001b[0m \u001b[0mtarget\u001b[0m\u001b[0;34m.\u001b[0m\u001b[0mto\u001b[0m\u001b[0;34m(\u001b[0m\u001b[0mdevice\u001b[0m\u001b[0;34m)\u001b[0m\u001b[0;34m\u001b[0m\u001b[0m\n\u001b[1;32m     10\u001b[0m \u001b[0;34m\u001b[0m\u001b[0m\n\u001b[0;32m---> 11\u001b[0;31m         \u001b[0mbatch_preds\u001b[0m \u001b[0;34m=\u001b[0m \u001b[0mnet\u001b[0m\u001b[0;34m.\u001b[0m\u001b[0mforward\u001b[0m\u001b[0;34m(\u001b[0m\u001b[0mbatch_features\u001b[0m\u001b[0;34m)\u001b[0m\u001b[0;34m\u001b[0m\u001b[0m\n\u001b[0m\u001b[1;32m     12\u001b[0m \u001b[0;34m\u001b[0m\u001b[0m\n\u001b[1;32m     13\u001b[0m         \u001b[0mloss\u001b[0m \u001b[0;34m=\u001b[0m \u001b[0mcriterion\u001b[0m\u001b[0;34m(\u001b[0m\u001b[0mbatch_preds\u001b[0m\u001b[0;34m,\u001b[0m \u001b[0mbatch_labels\u001b[0m\u001b[0;34m)\u001b[0m\u001b[0;34m\u001b[0m\u001b[0m\n",
      "\u001b[0;32m<ipython-input-32-cb3a8df9d149>\u001b[0m in \u001b[0;36mforward\u001b[0;34m(self, x)\u001b[0m\n\u001b[1;32m     15\u001b[0m \u001b[0;34m\u001b[0m\u001b[0m\n\u001b[1;32m     16\u001b[0m     \u001b[0;32mdef\u001b[0m \u001b[0mforward\u001b[0m\u001b[0;34m(\u001b[0m\u001b[0mself\u001b[0m\u001b[0;34m,\u001b[0m \u001b[0mx\u001b[0m\u001b[0;34m)\u001b[0m\u001b[0;34m:\u001b[0m\u001b[0;34m\u001b[0m\u001b[0m\n\u001b[0;32m---> 17\u001b[0;31m         \u001b[0minitial\u001b[0m \u001b[0;34m=\u001b[0m \u001b[0mx\u001b[0m\u001b[0;34m.\u001b[0m\u001b[0mclone\u001b[0m\u001b[0;34m(\u001b[0m\u001b[0;34m)\u001b[0m\u001b[0;34m\u001b[0m\u001b[0m\n\u001b[0m\u001b[1;32m     18\u001b[0m \u001b[0;34m\u001b[0m\u001b[0m\n\u001b[1;32m     19\u001b[0m         \u001b[0mc1\u001b[0m \u001b[0;34m=\u001b[0m \u001b[0mself\u001b[0m\u001b[0;34m.\u001b[0m\u001b[0mconv1\u001b[0m\u001b[0;34m(\u001b[0m\u001b[0mx\u001b[0m\u001b[0;34m)\u001b[0m\u001b[0;34m\u001b[0m\u001b[0m\n",
      "\u001b[0;31mRuntimeError\u001b[0m: cuda runtime error (2) : out of memory at /pytorch/aten/src/THC/THCTensorCopy.cu:204"
     ]
    }
   ],
   "source": [
    "for epoch in range(10):\n",
    "    print(\"Epoch {} started\".format(epoch))\n",
    "    order = random.permutation(len(dataset.ids))\n",
    "    net.train()\n",
    "    for i, (data, target) in enumerate(data_loader):\n",
    "        optimizer.zero_grad()\n",
    "        \n",
    "        batch_features = data.to(device)\n",
    "        batch_labels = target.to(device)\n",
    "        \n",
    "        batch_preds = net.forward(batch_features)\n",
    "\n",
    "        loss = criterion(batch_preds, batch_labels)\n",
    "        loss.backward()\n",
    "        optimizer.step()\n",
    "        \n",
    "        if i % 50 == 0:\n",
    "            print(\"Batch {} loss {}, \".format(i, loss.item()), end=\"\")\n",
    "            print(\"intersection over union: {}\".format(metric(batch_preds, batch_labels)))"
   ]
  },
  {
   "cell_type": "code",
   "execution_count": null,
   "metadata": {},
   "outputs": [],
   "source": [
    "def showimgs(data_loader, net, batches=1):\n",
    "    for i, (data, target) in enumerate(data_loader):\n",
    "        pred = net.forward(data.to(device))\n",
    "        for img_data, border_data, pred_data in zip(data, target, pred):\n",
    "            fig, (img, border, prediction) = plt.subplots(1, 3)\n",
    "            img.imshow(img_data.numpy().swapaxes(0,1).swapaxes(1,2))\n",
    "            border.imshow(border_data.numpy().squeeze(0))\n",
    "            prediction.imshow(pred_data.cpu().data.numpy().squeeze(0))\n",
    "            plt.show()\n",
    "        if (i == batches):\n",
    "            break\n",
    "        \n",
    "        \n",
    "def showpred(pred):\n",
    "    for i in pred:\n",
    "        plt.imshow(i.numpy().squeeze(0))\n",
    "        plt.show()"
   ]
  },
  {
   "cell_type": "code",
   "execution_count": null,
   "metadata": {},
   "outputs": [],
   "source": [
    "showimgs(data_loader, net, batches=4)"
   ]
  },
  {
   "cell_type": "code",
   "execution_count": null,
   "metadata": {},
   "outputs": [],
   "source": [
    "# torch.save(net.state_dict(), \"state_dict.wght\")"
   ]
  },
  {
   "cell_type": "code",
   "execution_count": null,
   "metadata": {},
   "outputs": [],
   "source": []
  }
 ],
 "metadata": {
  "kernelspec": {
   "display_name": "Python 3",
   "language": "python",
   "name": "python3"
  },
  "language_info": {
   "codemirror_mode": {
    "name": "ipython",
    "version": 3
   },
   "file_extension": ".py",
   "mimetype": "text/x-python",
   "name": "python",
   "nbconvert_exporter": "python",
   "pygments_lexer": "ipython3",
   "version": "3.5.2"
  }
 },
 "nbformat": 4,
 "nbformat_minor": 2
}
